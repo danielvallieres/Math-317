{
 "cells": [
  {
   "cell_type": "markdown",
   "id": "aeae3f1f",
   "metadata": {},
   "source": [
    "# Homework 1"
   ]
  },
  {
   "cell_type": "markdown",
   "id": "2cea395e",
   "metadata": {},
   "source": [
    "## Problem 1"
   ]
  },
  {
   "cell_type": "markdown",
   "id": "56787103",
   "metadata": {},
   "source": [
    "In class, I briefly presented some code to encrypt a plain text using a shift cipher.  For clarity, let me explain the code briefly.  First, strings in Python are entered using single or double quotation marks:"
   ]
  },
  {
   "cell_type": "code",
   "execution_count": 1,
   "id": "1bcf0d36",
   "metadata": {},
   "outputs": [
    {
     "data": {
      "text/plain": [
       "str"
      ]
     },
     "execution_count": 1,
     "metadata": {},
     "output_type": "execute_result"
    }
   ],
   "source": [
    "c = 'a'\n",
    "type(c)"
   ]
  },
  {
   "cell_type": "markdown",
   "id": "c7ac9d0e",
   "metadata": {},
   "source": [
    "In order to get the ASCII code for a given character, one can use the function `ord()` as follows."
   ]
  },
  {
   "cell_type": "code",
   "execution_count": 2,
   "id": "d1b5d4e9",
   "metadata": {},
   "outputs": [
    {
     "data": {
      "text/plain": [
       "97"
      ]
     },
     "execution_count": 2,
     "metadata": {},
     "output_type": "execute_result"
    }
   ],
   "source": [
    "ord(c)"
   ]
  },
  {
   "cell_type": "markdown",
   "id": "c819ea83",
   "metadata": {},
   "source": [
    "For now, let's just work with capital letters with no punctuation signs.  The ASCII codes we need run from 65 to 90, since we have"
   ]
  },
  {
   "cell_type": "code",
   "execution_count": 3,
   "id": "679299c5",
   "metadata": {},
   "outputs": [
    {
     "name": "stdout",
     "output_type": "stream",
     "text": [
      "65\n",
      "90\n"
     ]
    }
   ],
   "source": [
    "print(ord('A'))\n",
    "print(ord('Z'))"
   ]
  },
  {
   "cell_type": "markdown",
   "id": "76e1fa2f",
   "metadata": {},
   "source": [
    "Given an ASCII code, one can get the corresponding character using the function `chr()`:"
   ]
  },
  {
   "cell_type": "code",
   "execution_count": 4,
   "id": "d3185df5",
   "metadata": {},
   "outputs": [
    {
     "data": {
      "text/plain": [
       "'C'"
      ]
     },
     "execution_count": 4,
     "metadata": {},
     "output_type": "execute_result"
    }
   ],
   "source": [
    "chr(67)"
   ]
  },
  {
   "cell_type": "markdown",
   "id": "4ec06d92",
   "metadata": {},
   "source": [
    "A useful data type in Python is a list.  An empty list can be initiated as follows:"
   ]
  },
  {
   "cell_type": "code",
   "execution_count": 5,
   "id": "b63e1107",
   "metadata": {},
   "outputs": [
    {
     "data": {
      "text/plain": [
       "list"
      ]
     },
     "execution_count": 5,
     "metadata": {},
     "output_type": "execute_result"
    }
   ],
   "source": [
    "L = list()\n",
    "type(L)"
   ]
  },
  {
   "cell_type": "markdown",
   "id": "7f6318e0",
   "metadata": {},
   "source": [
    "In order to add elements to our list, the method `.append()` is useful."
   ]
  },
  {
   "cell_type": "code",
   "execution_count": 6,
   "id": "847337f1",
   "metadata": {},
   "outputs": [
    {
     "data": {
      "text/plain": [
       "[3, -1, 4]"
      ]
     },
     "execution_count": 6,
     "metadata": {},
     "output_type": "execute_result"
    }
   ],
   "source": [
    "L.append(3)\n",
    "L.append(-1)\n",
    "L.append(4)\n",
    "L"
   ]
  },
  {
   "cell_type": "markdown",
   "id": "50bcc560",
   "metadata": {},
   "source": [
    "One can access the element in the list as follows:"
   ]
  },
  {
   "cell_type": "code",
   "execution_count": 7,
   "id": "2316bc3d",
   "metadata": {},
   "outputs": [
    {
     "name": "stdout",
     "output_type": "stream",
     "text": [
      "3\n",
      "4\n"
     ]
    }
   ],
   "source": [
    "print(L[0])\n",
    "print(L[2])"
   ]
  },
  {
   "cell_type": "markdown",
   "id": "bf5619e9",
   "metadata": {},
   "source": [
    "The syntax for a for loop in Python is as follows:"
   ]
  },
  {
   "cell_type": "code",
   "execution_count": 8,
   "id": "72edbcdb",
   "metadata": {},
   "outputs": [
    {
     "name": "stdout",
     "output_type": "stream",
     "text": [
      "0\n",
      "1\n",
      "2\n",
      "3\n",
      "4\n"
     ]
    }
   ],
   "source": [
    "for x in range(5):\n",
    "    print(x)"
   ]
  },
  {
   "cell_type": "markdown",
   "id": "6d025766",
   "metadata": {},
   "source": [
    "The syntax for a if statement in Python is as follows:"
   ]
  },
  {
   "cell_type": "code",
   "execution_count": 9,
   "id": "93654d16",
   "metadata": {},
   "outputs": [
    {
     "name": "stdout",
     "output_type": "stream",
     "text": [
      "This is correct.\n"
     ]
    }
   ],
   "source": [
    "x = 2\n",
    "if x == 2:\n",
    "    print('This is correct.')\n",
    "else:\n",
    "    print('This is false.')"
   ]
  },
  {
   "cell_type": "markdown",
   "id": "37be51de",
   "metadata": {},
   "source": [
    "One can also have more than one condition:"
   ]
  },
  {
   "cell_type": "code",
   "execution_count": 10,
   "id": "df547e8f",
   "metadata": {},
   "outputs": [
    {
     "name": "stdout",
     "output_type": "stream",
     "text": [
      "This is correct.\n"
     ]
    }
   ],
   "source": [
    "x = 3\n",
    "if x == 2:\n",
    "    print('This is incorrect.')\n",
    "elif x == 3:\n",
    "    print('This is correct.')\n",
    "else:\n",
    "    print(\"I don't know what you are talking about.\")\n",
    "    "
   ]
  },
  {
   "cell_type": "markdown",
   "id": "4dd7ab25",
   "metadata": {},
   "source": [
    "As we pointed out in class, the remainder of a division can be found in Python with `%`.  For instance:"
   ]
  },
  {
   "cell_type": "code",
   "execution_count": 11,
   "id": "f2eebf4b",
   "metadata": {},
   "outputs": [
    {
     "data": {
      "text/plain": [
       "2"
      ]
     },
     "execution_count": 11,
     "metadata": {},
     "output_type": "execute_result"
    }
   ],
   "source": [
    "12 % 5"
   ]
  },
  {
   "cell_type": "markdown",
   "id": "9517b26e",
   "metadata": {},
   "source": [
    "Putting all of this together, the code to encrypt using a shift cipher could look as follows:"
   ]
  },
  {
   "cell_type": "code",
   "execution_count": 12,
   "id": "097d7928",
   "metadata": {},
   "outputs": [],
   "source": [
    "def shift_encrypt(M,key):\n",
    "    L = list()\n",
    "    for m in M:\n",
    "        L.append(chr((ord(m) - 65 + key) % 26 + 65))\n",
    "    return str().join(L)"
   ]
  },
  {
   "cell_type": "markdown",
   "id": "9eef2568",
   "metadata": {},
   "source": [
    "Go ahead and write the code to decrypt the shift cipher in the cell below.  Make sure that only the algorithm is changing, but that you are using the same key as the one used to encrypt."
   ]
  },
  {
   "cell_type": "code",
   "execution_count": null,
   "id": "044eb2cb",
   "metadata": {},
   "outputs": [],
   "source": []
  },
  {
   "cell_type": "markdown",
   "id": "b5b61758",
   "metadata": {},
   "source": [
    "The following cipher text was encrypted using a shift cipher.\n",
    "\n",
    "ZXKXAXFPQEBYBPQZLRKQOVFKQEBTLOIA\n",
    "\n",
    "Write code that uses a for loop to attempt decryption using all 26 possible keys."
   ]
  },
  {
   "cell_type": "code",
   "execution_count": null,
   "id": "510cd050",
   "metadata": {},
   "outputs": [],
   "source": []
  },
  {
   "cell_type": "markdown",
   "id": "03af35ad",
   "metadata": {},
   "source": [
    "What was the original plain text message?"
   ]
  },
  {
   "cell_type": "markdown",
   "id": "adf7b82b",
   "metadata": {},
   "source": []
  },
  {
   "cell_type": "markdown",
   "id": "4f755779",
   "metadata": {},
   "source": [
    "## Problem 2"
   ]
  },
  {
   "cell_type": "markdown",
   "id": "6daa6729",
   "metadata": {},
   "source": [
    "Write encrypt and decrypt functions for a substitution cipher.  For now, you can assume that the plain and cipher texts consist of capital letters only.  The key will be a list of integers that represents a permutation of the set $\\{0,1,2,\\ldots,25\\}$.  \n",
    "\n",
    "In the future, you can generate a random key with the following code in Python:"
   ]
  },
  {
   "cell_type": "code",
   "execution_count": 13,
   "id": "37f58870",
   "metadata": {},
   "outputs": [
    {
     "name": "stdout",
     "output_type": "stream",
     "text": [
      "[24, 14, 7, 4, 23, 2, 9, 11, 10, 17, 0, 12, 16, 15, 22, 8, 5, 1, 20, 25, 21, 19, 18, 13, 3, 6]\n"
     ]
    }
   ],
   "source": [
    "import numpy\n",
    "    \n",
    "f = numpy.random.permutation(range(26))\n",
    "key = list(f)\n",
    "print(key)"
   ]
  },
  {
   "cell_type": "markdown",
   "id": "acadfcf6",
   "metadata": {},
   "source": [
    "But for the current homework problem, let us all use the same key, namely:"
   ]
  },
  {
   "cell_type": "code",
   "execution_count": 14,
   "id": "e207f095",
   "metadata": {},
   "outputs": [],
   "source": [
    "key = [15, 21, 25, 17, 5, 16, 22, 13, 19, 23, 18, 2, 12, 20, 6, 3, 1, 14, 24, 7, 8, 10, 0, 9, 4, 11]"
   ]
  },
  {
   "cell_type": "markdown",
   "id": "b2897eec",
   "metadata": {},
   "source": [
    "Write your encrypt function below (a good name for this function could be `subst_encrypt()`):"
   ]
  },
  {
   "cell_type": "code",
   "execution_count": null,
   "id": "3c6d8877",
   "metadata": {},
   "outputs": [],
   "source": []
  },
  {
   "cell_type": "markdown",
   "id": "d4e4cec6",
   "metadata": {},
   "source": [
    "Write your decrypt function below (a good name for this function could be `subst_decrypt()`):"
   ]
  },
  {
   "cell_type": "code",
   "execution_count": null,
   "id": "687fd84d",
   "metadata": {},
   "outputs": [],
   "source": []
  },
  {
   "cell_type": "markdown",
   "id": "8f6f0807",
   "metadata": {},
   "source": [
    "Once you have the encrypt and decrypt functions working, run the following code to show that your program works:\n",
    "\n",
    "```\n",
    "M = 'ILOVESPAGHETTI'\n",
    "B = subst_encrypt(M,key)\n",
    "print(B)\n",
    "C = subst_decrypt(B,key)\n",
    "print(C)\n",
    "```"
   ]
  },
  {
   "cell_type": "code",
   "execution_count": null,
   "id": "faa5818e",
   "metadata": {},
   "outputs": [],
   "source": []
  },
  {
   "cell_type": "markdown",
   "id": "9fbe2ed1",
   "metadata": {},
   "source": [
    "## Problem 3"
   ]
  },
  {
   "cell_type": "markdown",
   "id": "e502f73e",
   "metadata": {},
   "source": [
    "Write a function in python that will input a positive integer and output the boolean `True` if it is a prime number and the boolean `False` otherwise.  You could call your function `is_prime()`.  The most naive way of doing this is fine right now although probably not very efficient.  Booleans in Python work as follows:"
   ]
  },
  {
   "cell_type": "code",
   "execution_count": 15,
   "id": "8b47accd",
   "metadata": {},
   "outputs": [
    {
     "data": {
      "text/plain": [
       "bool"
      ]
     },
     "execution_count": 15,
     "metadata": {},
     "output_type": "execute_result"
    }
   ],
   "source": [
    "type(True)"
   ]
  },
  {
   "cell_type": "code",
   "execution_count": 16,
   "id": "3a292c33",
   "metadata": {},
   "outputs": [
    {
     "data": {
      "text/plain": [
       "bool"
      ]
     },
     "execution_count": 16,
     "metadata": {},
     "output_type": "execute_result"
    }
   ],
   "source": [
    "type(False)"
   ]
  },
  {
   "cell_type": "code",
   "execution_count": 17,
   "id": "c41ef43c",
   "metadata": {},
   "outputs": [
    {
     "data": {
      "text/plain": [
       "False"
      ]
     },
     "execution_count": 17,
     "metadata": {},
     "output_type": "execute_result"
    }
   ],
   "source": [
    "2 == 3"
   ]
  },
  {
   "cell_type": "markdown",
   "id": "529daba7",
   "metadata": {},
   "source": [
    "Write your function below:"
   ]
  },
  {
   "cell_type": "code",
   "execution_count": null,
   "id": "782de87d",
   "metadata": {},
   "outputs": [],
   "source": []
  },
  {
   "cell_type": "markdown",
   "id": "de326777",
   "metadata": {},
   "source": [
    "Make sure your function works properly by testing it on the first 50 integers.  Write a for loop to accomplish this."
   ]
  },
  {
   "cell_type": "code",
   "execution_count": null,
   "id": "1a956d3b",
   "metadata": {},
   "outputs": [],
   "source": []
  },
  {
   "cell_type": "markdown",
   "id": "c1370d80",
   "metadata": {},
   "source": [
    "## Problem 4"
   ]
  },
  {
   "cell_type": "markdown",
   "id": "bb691f16",
   "metadata": {},
   "source": [
    "Write code to find all primes $p$ less than a given bound that satisfy $p \\equiv 1 \\pmod{4}$.  The operator `%` in Python might be handy for that.  "
   ]
  },
  {
   "cell_type": "code",
   "execution_count": null,
   "id": "f36639d8",
   "metadata": {},
   "outputs": [],
   "source": []
  },
  {
   "cell_type": "markdown",
   "id": "ea92893c",
   "metadata": {},
   "source": [
    "How many such primes are there below 100, 1000, 10000, 100000, 1000000??  (Depending on how you coded the function `is_prime()` above, the last calculation might take a while.)  "
   ]
  },
  {
   "cell_type": "markdown",
   "id": "30c85758",
   "metadata": {},
   "source": []
  },
  {
   "cell_type": "markdown",
   "id": "1636265b",
   "metadata": {},
   "source": [
    "Repeat the same experiment as above, but with the primes $p$ that satisfy $p \\equiv 3 \\pmod{4}$"
   ]
  },
  {
   "cell_type": "code",
   "execution_count": null,
   "id": "e96a1dc9",
   "metadata": {},
   "outputs": [],
   "source": []
  }
 ],
 "metadata": {
  "kernelspec": {
   "display_name": "Python 3 (ipykernel)",
   "language": "python",
   "name": "python3"
  },
  "language_info": {
   "codemirror_mode": {
    "name": "ipython",
    "version": 3
   },
   "file_extension": ".py",
   "mimetype": "text/x-python",
   "name": "python",
   "nbconvert_exporter": "python",
   "pygments_lexer": "ipython3",
   "version": "3.10.9"
  }
 },
 "nbformat": 4,
 "nbformat_minor": 5
}
