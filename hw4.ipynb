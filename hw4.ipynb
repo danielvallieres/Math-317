{
 "cells": [
  {
   "cell_type": "markdown",
   "metadata": {},
   "source": [
    "# Homework 4"
   ]
  },
  {
   "cell_type": "markdown",
   "metadata": {},
   "source": [
    "This is the first homework assignment for which we will be using SageMath.  You first task is to install SageMath on your computer if you haven't done so already.  Then, you have to figure out how to use SageMath as a kernel for your Jupyter Notebook.  Go ahead and give it a shot.  You might have to do a bit of research online to get to this point.  Once you select SageMath as a kernel, you should see SageMath in the top right corner of your notebook instead of just Python.\n",
    "\n",
    "Several functions that you coded so far in Python have already been coded in SageMath.  For instance, your function `is_prime()` from Homework 1 already exists in SageMath.  So do the functions `ext_euclidean()`, `prime_range()`, `is_prim_root()` from Homework 2, and the function `fast_exp()` from Homework 3.  I encourage you to go ahead and play with big numbers to see how your own code compare to the SageMath code."
   ]
  },
  {
   "cell_type": "code",
   "execution_count": 1,
   "metadata": {
    "vscode": {
     "languageId": "plaintext"
    }
   },
   "outputs": [
    {
     "data": {
      "text/plain": [
       "True"
      ]
     },
     "execution_count": 1,
     "metadata": {},
     "output_type": "execute_result"
    }
   ],
   "source": [
    "p = 1639240535066257\n",
    "is_prime(p)"
   ]
  },
  {
   "cell_type": "code",
   "execution_count": 2,
   "metadata": {
    "vscode": {
     "languageId": "plaintext"
    }
   },
   "outputs": [
    {
     "data": {
      "text/plain": [
       "(2,\n",
       " -279853842260081926978490496331080850009840587946078747873301328042192450510132403237079577419814578638176116202425600589263595308664451648642204713037479,\n",
       " 72624840602171283230309502117034901887613599734626470291985001981712468917915291186320198080335808734018015305496554072884997447197162879831497666992131)"
      ]
     },
     "execution_count": 2,
     "metadata": {},
     "output_type": "execute_result"
    }
   ],
   "source": [
    "a = 1134809457890547891543789145789451789145051490847157120934875092387450987230948750923784059872309847609826757134250981723409871238970412307891234078941812\n",
    "b = 4372894789035250293847509238745097239407592347509872347519087147098134095782093487509872340958723745098723459878901347857213409587234560240567234589723450\n",
    "xgcd(a,b)"
   ]
  },
  {
   "cell_type": "code",
   "execution_count": 3,
   "metadata": {
    "vscode": {
     "languageId": "plaintext"
    }
   },
   "outputs": [
    {
     "data": {
      "text/plain": [
       "78498"
      ]
     },
     "execution_count": 3,
     "metadata": {},
     "output_type": "execute_result"
    }
   ],
   "source": [
    "L = prime_range(1000000)\n",
    "len(L)"
   ]
  },
  {
   "cell_type": "markdown",
   "metadata": {},
   "source": [
    "The prime counting function \n",
    "$$\\pi(x) = \\# \\{p \\text{ prime } : p \\le x \\}$$\n",
    "that we talked about in class is also implemented in SageMath.  Thus, the number above could have been calculated as follows instead:"
   ]
  },
  {
   "cell_type": "code",
   "execution_count": 4,
   "metadata": {
    "vscode": {
     "languageId": "plaintext"
    }
   },
   "outputs": [
    {
     "data": {
      "text/plain": [
       "78498"
      ]
     },
     "execution_count": 4,
     "metadata": {},
     "output_type": "execute_result"
    }
   ],
   "source": [
    "prime_pi(1000000)"
   ]
  },
  {
   "cell_type": "markdown",
   "metadata": {},
   "source": [
    "In SageMath, modular arithmetic can be dealt with as follows:"
   ]
  },
  {
   "cell_type": "code",
   "execution_count": 5,
   "metadata": {
    "vscode": {
     "languageId": "plaintext"
    }
   },
   "outputs": [
    {
     "name": "stdout",
     "output_type": "stream",
     "text": [
      "11\n",
      "9\n",
      "4\n"
     ]
    }
   ],
   "source": [
    "print(Mod(3,15) + Mod(23,15))\n",
    "print(Mod(3,15) * Mod(23,15))\n",
    "print(Mod(4,15)^(-1))"
   ]
  },
  {
   "cell_type": "markdown",
   "metadata": {},
   "source": [
    "And one can ask Sage if a given integer modulo m is a primitive root:"
   ]
  },
  {
   "cell_type": "code",
   "execution_count": 6,
   "metadata": {
    "vscode": {
     "languageId": "plaintext"
    }
   },
   "outputs": [
    {
     "data": {
      "text/plain": [
       "True"
      ]
     },
     "execution_count": 6,
     "metadata": {},
     "output_type": "execute_result"
    }
   ],
   "source": [
    "Mod(2,5).is_primitive_root()"
   ]
  },
  {
   "cell_type": "markdown",
   "metadata": {},
   "source": [
    "Or asks for the multiplicative order of a unit modulo m:"
   ]
  },
  {
   "cell_type": "code",
   "execution_count": 7,
   "metadata": {
    "vscode": {
     "languageId": "plaintext"
    }
   },
   "outputs": [
    {
     "data": {
      "text/plain": [
       "4"
      ]
     },
     "execution_count": 7,
     "metadata": {},
     "output_type": "execute_result"
    }
   ],
   "source": [
    "Mod(2,5).multiplicative_order()"
   ]
  },
  {
   "cell_type": "markdown",
   "metadata": {},
   "source": [
    "Of course, the Euler phi function is implemented in SageMath:"
   ]
  },
  {
   "cell_type": "code",
   "execution_count": 8,
   "metadata": {
    "vscode": {
     "languageId": "plaintext"
    }
   },
   "outputs": [
    {
     "data": {
      "text/plain": [
       "40"
      ]
     },
     "execution_count": 8,
     "metadata": {},
     "output_type": "execute_result"
    }
   ],
   "source": [
    "euler_phi(100)"
   ]
  },
  {
   "cell_type": "markdown",
   "metadata": {},
   "source": [
    "Fast modular exponentiation is already implemented in Python when working with integers modulo m:"
   ]
  },
  {
   "cell_type": "code",
   "execution_count": 9,
   "metadata": {
    "vscode": {
     "languageId": "plaintext"
    }
   },
   "outputs": [
    {
     "data": {
      "text/plain": [
       "3"
      ]
     },
     "execution_count": 9,
     "metadata": {},
     "output_type": "execute_result"
    }
   ],
   "source": [
    "Mod(2,5)^10394857190348751"
   ]
  },
  {
   "cell_type": "markdown",
   "metadata": {},
   "source": [
    "Another function you haven't implemented yourself that can be handy to know is the function `factor()`:"
   ]
  },
  {
   "cell_type": "code",
   "execution_count": 10,
   "metadata": {
    "vscode": {
     "languageId": "plaintext"
    }
   },
   "outputs": [
    {
     "data": {
      "text/plain": [
       "3^3 * 7 * 13 * 41 * 2237 * 484754321"
      ]
     },
     "execution_count": 10,
     "metadata": {},
     "output_type": "execute_result"
    }
   ],
   "source": [
    "factor(109238741029348749)"
   ]
  },
  {
   "cell_type": "markdown",
   "metadata": {},
   "source": [
    "## Problem 1"
   ]
  },
  {
   "cell_type": "markdown",
   "metadata": {},
   "source": [
    "Using SageMath now, compute the ten smallest primitive roots modulo the prime:"
   ]
  },
  {
   "cell_type": "code",
   "execution_count": 11,
   "metadata": {
    "vscode": {
     "languageId": "plaintext"
    }
   },
   "outputs": [],
   "source": [
    "p = 6242701953154426055792104938207719351221"
   ]
  },
  {
   "cell_type": "code",
   "execution_count": null,
   "metadata": {
    "vscode": {
     "languageId": "plaintext"
    }
   },
   "outputs": [],
   "source": []
  },
  {
   "cell_type": "markdown",
   "metadata": {},
   "source": [
    "## Problem 2"
   ]
  },
  {
   "cell_type": "markdown",
   "metadata": {},
   "source": [
    "SageMath uses different types than Python.  For instance:"
   ]
  },
  {
   "cell_type": "code",
   "execution_count": 12,
   "metadata": {
    "vscode": {
     "languageId": "plaintext"
    }
   },
   "outputs": [
    {
     "name": "stdout",
     "output_type": "stream",
     "text": [
      "<class 'sage.rings.integer.Integer'>\n",
      "<class 'sage.rings.rational.Rational'>\n"
     ]
    }
   ],
   "source": [
    "a = 2\n",
    "print(type(2))\n",
    "\n",
    "b = 2/3\n",
    "print(type(2/3))"
   ]
  },
  {
   "cell_type": "markdown",
   "metadata": {},
   "source": [
    "But one can cast those types into the familiar Python ones if desired:"
   ]
  },
  {
   "cell_type": "code",
   "execution_count": 13,
   "metadata": {
    "vscode": {
     "languageId": "plaintext"
    }
   },
   "outputs": [
    {
     "data": {
      "text/plain": [
       "<class 'int'>"
      ]
     },
     "execution_count": 13,
     "metadata": {},
     "output_type": "execute_result"
    }
   ],
   "source": [
    "type(int(a))"
   ]
  },
  {
   "cell_type": "markdown",
   "metadata": {},
   "source": [
    "For the following problem, you will need to cast numbers as real numbers which can be done as follows:"
   ]
  },
  {
   "cell_type": "code",
   "execution_count": 14,
   "metadata": {
    "vscode": {
     "languageId": "plaintext"
    }
   },
   "outputs": [
    {
     "name": "stdout",
     "output_type": "stream",
     "text": [
      "2.00000000000000\n",
      "0.666666666666667\n"
     ]
    }
   ],
   "source": [
    "print(RR((a)))\n",
    "print(RR((b)))"
   ]
  },
  {
   "cell_type": "markdown",
   "metadata": {},
   "source": [
    "It is conjectured that $2$ is a primitive root for infinitely many primes $p$, but no one can prove this...This is a special case of [Artin's primitive root conjecture](https://en.wikipedia.org/wiki/Artin%27s_conjecture_on_primitive_roots).  The following real number is known as Artin's constant:\n",
    "$$A = \\lim_{x \\to \\infty} \\frac{\\# \\{p \\le x : 2 \\text{ is a primitive root modulo } p \\}}{\\# \\{p \\le x \\}}. $$\n",
    "Estimate the value of Artin's constant numerically by computing the quotient appearing above for $x = 10^{k}$ for $k=1,2,3,4,5,6,7$ and casting it to a real number.  "
   ]
  },
  {
   "cell_type": "code",
   "execution_count": null,
   "metadata": {
    "vscode": {
     "languageId": "plaintext"
    }
   },
   "outputs": [],
   "source": []
  },
  {
   "cell_type": "markdown",
   "metadata": {},
   "source": [
    "## Problem 3"
   ]
  },
  {
   "cell_type": "markdown",
   "metadata": {},
   "source": [
    "In class, we defined a safe prime to be a prime $p$ of the form $p = 2q + 1$ for some other primes $q$.  (The primes $q$ for which $2q + 1$ is prime are called  Sophie Germain primes.)  Calculate how many safe primes there are below $10^4$."
   ]
  },
  {
   "cell_type": "code",
   "execution_count": null,
   "metadata": {
    "vscode": {
     "languageId": "plaintext"
    }
   },
   "outputs": [],
   "source": []
  },
  {
   "cell_type": "markdown",
   "metadata": {},
   "source": [
    "## Problem 4"
   ]
  },
  {
   "cell_type": "markdown",
   "metadata": {},
   "source": [
    "Implement the naive way to solve the discrete log problem\n",
    "$$g^{x} \\equiv h \\pmod{p} $$\n",
    "as we explained in class.  Here $g$ is any unit modulo $p$, $h$ any integer and we take $p$ to be a prime.  The function call should look like\n",
    "```\n",
    "def naive_dl(g,p,h):\n",
    "    list_of_powers = list()\n",
    "    [COMPLETE]\n",
    "    return x\n",
    "```"
   ]
  },
  {
   "cell_type": "code",
   "execution_count": null,
   "metadata": {
    "vscode": {
     "languageId": "plaintext"
    }
   },
   "outputs": [],
   "source": []
  },
  {
   "cell_type": "markdown",
   "metadata": {},
   "source": [
    "## Problem 5"
   ]
  },
  {
   "cell_type": "markdown",
   "metadata": {},
   "source": [
    "Now, implement Shanks's Babystep-Giantstep Algorithm for computing the discrete log.  The function call should look like:\n",
    "```\n",
    "def sbsgs_dl(g,p,h):\n",
    "    n = 1 + floor(sqrt(p-1))\n",
    "    [COMPLETE]\n",
    "    y = i + j*n\n",
    "    return y\n",
    "```"
   ]
  },
  {
   "cell_type": "code",
   "execution_count": null,
   "metadata": {
    "vscode": {
     "languageId": "plaintext"
    }
   },
   "outputs": [],
   "source": []
  },
  {
   "cell_type": "markdown",
   "metadata": {},
   "source": [
    "## Problem 6"
   ]
  },
  {
   "cell_type": "markdown",
   "metadata": {},
   "source": [
    "Now compare both ways as follows.  We will test your functions by timing them on a $28$ bit prime.  (We already talked about Fermat pseudoprimes, and we'll talk more about pseudoprimes later in this class.)  Once your functions `naive_dl()` and `sbsgs_dl()` work fine, run the following code:"
   ]
  },
  {
   "cell_type": "code",
   "execution_count": 15,
   "metadata": {
    "vscode": {
     "languageId": "plaintext"
    }
   },
   "outputs": [],
   "source": [
    "# Return a pseudoprime with k bits\n",
    "def get_pseudoprime(k):\n",
    "    p = 1\n",
    "    while not is_pseudoprime(p):\n",
    "        p = ZZ(randint(2^(k-1),2^k))\n",
    "    return p\n",
    "\n",
    "# Time your function with a 28 bit prime\n",
    "k = 28\n",
    "p = get_pseudoprime(k)\n",
    "g = primitive_root(p)\n",
    "h = 123"
   ]
  },
  {
   "cell_type": "markdown",
   "metadata": {},
   "source": [
    "Make sure the cell just above ran, and now run the following code in the cell below:\n",
    "```\n",
    "time x = naive_dl(g,p,h)\n",
    "```"
   ]
  },
  {
   "cell_type": "code",
   "execution_count": null,
   "metadata": {
    "vscode": {
     "languageId": "plaintext"
    }
   },
   "outputs": [],
   "source": []
  },
  {
   "cell_type": "markdown",
   "metadata": {},
   "source": [
    "As a check, run also the following code in the cell below:\n",
    "```\n",
    "print(g,p,x)\n",
    "print(Mod(g,p)^x == h)\n",
    "```"
   ]
  },
  {
   "cell_type": "code",
   "execution_count": null,
   "metadata": {
    "vscode": {
     "languageId": "plaintext"
    }
   },
   "outputs": [],
   "source": []
  },
  {
   "cell_type": "markdown",
   "metadata": {},
   "source": [
    "Run the following code in the cell below:\n",
    "```\n",
    "time y = sbsgs_dl(g,p,h)\n",
    "```"
   ]
  },
  {
   "cell_type": "code",
   "execution_count": null,
   "metadata": {
    "vscode": {
     "languageId": "plaintext"
    }
   },
   "outputs": [],
   "source": []
  },
  {
   "cell_type": "markdown",
   "metadata": {},
   "source": [
    "As a check, run also the following code in the cell below:\n",
    "```\n",
    "print(g,p,y)\n",
    "print(Mod(g,p)^y == h)\n",
    "```"
   ]
  },
  {
   "cell_type": "code",
   "execution_count": null,
   "metadata": {
    "vscode": {
     "languageId": "plaintext"
    }
   },
   "outputs": [],
   "source": []
  },
  {
   "cell_type": "markdown",
   "metadata": {},
   "source": [
    "How do the running times compare between the naive approach and the Babystep-Giantstep approach?"
   ]
  },
  {
   "cell_type": "markdown",
   "metadata": {},
   "source": []
  },
  {
   "cell_type": "markdown",
   "metadata": {},
   "source": [
    "Try out the Babystep-Giantstep approach with a $32$ bit prime, then a $64$ bit prime.  What is the largest $k$ you can \"crack\"?"
   ]
  },
  {
   "cell_type": "markdown",
   "metadata": {},
   "source": []
  }
 ],
 "metadata": {
  "kernelspec": {
   "display_name": "SageMath 9.6",
   "language": "sage",
   "name": "sagemath-9.6"
  },
  "language_info": {
   "codemirror_mode": {
    "name": "ipython",
    "version": 3
   },
   "file_extension": ".py",
   "mimetype": "text/x-python",
   "name": "python",
   "nbconvert_exporter": "python",
   "pygments_lexer": "ipython3",
   "version": "3.10.3"
  }
 },
 "nbformat": 4,
 "nbformat_minor": 2
}
