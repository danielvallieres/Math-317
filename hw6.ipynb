{
 "cells": [
  {
   "cell_type": "markdown",
   "metadata": {},
   "source": [
    "# Homework 6"
   ]
  },
  {
   "cell_type": "markdown",
   "metadata": {},
   "source": [
    "In this homework assignment, make sure to run the cells in the usual order.  This will be important.  If you jump in a non-linear way between your cells, it will most likely not work properly."
   ]
  },
  {
   "cell_type": "markdown",
   "metadata": {},
   "source": [
    "## Problem 1"
   ]
  },
  {
   "cell_type": "markdown",
   "metadata": {},
   "source": [
    "Suppose you setup an ElGamal digital signature scheme with the values $p,g$ given in the cell below."
   ]
  },
  {
   "cell_type": "code",
   "execution_count": 1,
   "metadata": {
    "vscode": {
     "languageId": "sage"
    }
   },
   "outputs": [
    {
     "name": "stdout",
     "output_type": "stream",
     "text": [
      "My secret key is s = 649182961442607902509313067924119728572054803466583670116833199043104671381001003251811609051.\n"
     ]
    }
   ],
   "source": [
    "p = 2085924839766513752338888384931203236916703635113918720651407820138886450957656787131798913039\n",
    "g = 3\n",
    "s = randint(1,p)\n",
    "print(f\"My secret key is s = {s}.\")"
   ]
  },
  {
   "cell_type": "markdown",
   "metadata": {},
   "source": [
    "Further, suppose I setup an RSA cryptosystem with public key given by the pair $n$ and $e$ given below."
   ]
  },
  {
   "cell_type": "code",
   "execution_count": 2,
   "metadata": {
    "vscode": {
     "languageId": "sage"
    }
   },
   "outputs": [],
   "source": [
    "n = 39757412497601434356404170661150082347994374241236358669809130234846659662851619098004698548033873143659270265677112199484269183892733363326072606103585453972148158251428676983194040665226627480001654163529137495893842930766785909943026716749004733301839079659725336820328945385832472683374600553660432069796849047060594394463552605346552225776944638878596658914437303002087775660489293261777662064007197324007140742172081566703200166611815161416541297571626698049992590921665163303107090540818882066911766444506559869702462809794398771785778852289607035674953434912371825967726996747590089061175352006221347189235631239438722404437934853204024781550015030401311538850741139313253749333517329583487924915188957322033760510543250667721460440667815913113547126972284754963913686961482122963984057635025112961004503580508801149116596351466741059102369023524054145317127067056307363451653104905561226722258687609426695366162985049358055928829737661608340496299196004351555528758898386184429912745814765089476322107404308347058741400808780256860519188862803847857980956805420745056631993101810755986717372018728035298897978023396408684652907100008267771090782307615799600213352739482106387146905999843241950385885928446564346099420872174630260185360585945439667015264487784035303919748223386274040527095534403013452388781315445538919882180382524943155041917143733038073881167784461169199348261848690549534082634116918146752904665721706919568449460396481103578460882992788508019771884785530890335043420308890749969559898015053\n",
    "e = 27342579965394768445314284149183732275005803543153759986349426956917687886462168372970469989695004614812458896760204193071076624989177548424163767104741372311605445396128360674464261806560348816346509307769294206842471303672787391031723206621596749258441204394821715377686341075281351652230296004220246092901910439724371112314131399529435281898193723357099177941058785044059288108733682838743274290910296906267413386866735641647061838987055935170001705154483961422243024129889318158395682920736435785574460911195406525170896184938021657047674684327863909261627033469065183620671843172665416476551143530665634458023329511100753134397565772058913455884988714361325271680644738840114871795050519589946733422368082898442700584473858480972173533919089395550762165438705847736050099595235343500650509952853434738728374827262168264017198217262373225519255440705448366170947183623626032459173534721506439954127998500257787051610571630894454601272198510520852129219503288753232793238634579251957850779711780325252504007919881285658231262605757948465894369994711175921895871137176078849258376059990295921788645771027140317837689102789187579585794726897698284755005680269419138737676918681207318942935690037548197277490469500466087336216779557493529223948719125878548210566344759388974169116837736098272724040788251759697763176352677758936238122514996837938924364865350495990652400417353915617116809583608879154881520492423723095396734139219067932220108248830579314925105684064514671995395431063948538429299901475106067919617965621"
   ]
  },
  {
   "cell_type": "markdown",
   "metadata": {},
   "source": [
    "In this problem, you will sign a message using ElGamal, append your signature to the message, encrypt it using RSA, and then we'll run a little code that will emulate me decrypting your message and making sure that it was sent by you.  Below is a collapsed cell with a few functions that you should not modify and that we will be using in this problems set.  Make sure to run the cell before moving to the next step."
   ]
  },
  {
   "cell_type": "code",
   "execution_count": 3,
   "metadata": {
    "vscode": {
     "languageId": "sage"
    }
   },
   "outputs": [],
   "source": [
    "def encode(a_string):\n",
    "    return sum([ord(a_string[i])*128^i for i in range(len(a_string))])\n",
    "    \n",
    "def decode(a_number):\n",
    "    L = list()\n",
    "    q = int(a_number)\n",
    "    r = 1\n",
    "    while r != 0:\n",
    "        r = q % 128\n",
    "        q = q//128\n",
    "        L.append(chr(r))\n",
    "    \n",
    "    return str().join(L[:-1])\n",
    "\n",
    "v = Mod(3,p)^s\n",
    "d = 3628933306770075138260930314394394130416885512525400918956762199862694891579946115200896820764352524900906860908438448038140299716109494364390987660139003871120850076089585144044914478645787492218961272447754092767004706596537612017841288653405208951963885226727591617859898360265608781428201372557174412989706740228825652417075035881782420811790159997577326935489815677997015553398104249472925846331742362106965448438415037351998810246655184827885495050519691402490637882617880458466496218174313097970812680772029897963178660464500162493601308007135289237062697813601234388478610830752096670700829991343464645919966906734749693134432843778437702912336995349223252170277773956205507918051321769044176412400741788713973663871022870809563144855474161020985312870736970983714962398457869454823525155118829642817421859199385782845719591701424544337643010846951224248372813194948266127467614893621008096924497693968471184913015801317618009334856468944815006294671663073908473595742720736770805588696457906517953292964283776345755210334407790884838041349542289885770656853394782613606987559785373487035376991062870660794225471138191263694287471654122191179177019580499933905676553141942340098465674984431143141275194501449140005580920827535969010174670351713682858693852622017592501566068604457023537820015990369663531689235267419935397904026063253849618072831179881287278142252386231905210958462880734631358632773185943342154360442817367683956913292058518509694385110654376214766966970604754914287822924238790158880648258621\n",
    "\n",
    "def check(a_number):\n",
    "    a_string = str(a_number)\n",
    "    \n",
    "    three_strings = a_string.split(\"00000000\")\n",
    "    three_numbers = [int(three_strings[x]) for x in range(3)]\n",
    "    return three_numbers\n",
    "\n",
    "def verify_signature(m,sign,p,g,k_public,*t):\n",
    "\n",
    "    p = int(p)\n",
    "    g = int(g)\n",
    "    m = int(m)\n",
    "\n",
    "    decode_message = decode(m)\n",
    "\n",
    "    q_1 = int(Mod(g,p)^m)\n",
    "    # print(q_1)\n",
    "    q_2 = int((Mod(k_public,p)^sign[0])*(Mod(sign[0],p)^sign[1]))\n",
    "    # print(q_2)\n",
    "\n",
    "    if q_1 == q_2:\n",
    "        if len(t) >= 1:\n",
    "            print(f'The message you sent me is: \"{decode_message}\".  The signature is also valid.')\n",
    "        else:\n",
    "            print('The signature is valid.')\n",
    "        return True\n",
    "    else:\n",
    "        print(\"Either the message was corrupted or the signature is not valid.  Redo.\")\n",
    "        return False\n"
   ]
  },
  {
   "cell_type": "markdown",
   "metadata": {},
   "source": [
    "1.  Encode a short message that includes your first name as a number m.  **Make sure that your message is less than p or this will not work correctly.  If it's not, pick a shorter message.**  For instance, \n",
    "```m = encode(\"Daniel says hi.\")```"
   ]
  },
  {
   "cell_type": "code",
   "execution_count": null,
   "metadata": {
    "vscode": {
     "languageId": "sage"
    }
   },
   "outputs": [],
   "source": []
  },
  {
   "cell_type": "markdown",
   "metadata": {},
   "source": [
    "2. Compute a digital signature $(S1,S2)$ of the message $m$.  **Make sure to cast your S1 and S2 as python integers, by using the usual command `int(S1)` and `int(S2)`.**"
   ]
  },
  {
   "cell_type": "code",
   "execution_count": null,
   "metadata": {
    "vscode": {
     "languageId": "sage"
    }
   },
   "outputs": [],
   "source": []
  },
  {
   "cell_type": "markdown",
   "metadata": {},
   "source": [
    "3.  Next, you are going to encrypt the signed document.  First, convert the document $m$ and the signature $(S1,S2)$ into a single integer by running the command\n",
    "```\n",
    "signed_plaintext = int(str(m) + \"00000000\" + str(int(S1)) + \"00000000\" + str(int(S2)))\n",
    "```"
   ]
  },
  {
   "cell_type": "code",
   "execution_count": null,
   "metadata": {
    "vscode": {
     "languageId": "sage"
    }
   },
   "outputs": [],
   "source": []
  },
  {
   "cell_type": "markdown",
   "metadata": {},
   "source": [
    "4.  Encrypt this number using my RSA public key given below.  Call your cipher `cipher_text`."
   ]
  },
  {
   "cell_type": "code",
   "execution_count": 4,
   "metadata": {
    "vscode": {
     "languageId": "sage"
    }
   },
   "outputs": [],
   "source": [
    "n = 39757412497601434356404170661150082347994374241236358669809130234846659662851619098004698548033873143659270265677112199484269183892733363326072606103585453972148158251428676983194040665226627480001654163529137495893842930766785909943026716749004733301839079659725336820328945385832472683374600553660432069796849047060594394463552605346552225776944638878596658914437303002087775660489293261777662064007197324007140742172081566703200166611815161416541297571626698049992590921665163303107090540818882066911766444506559869702462809794398771785778852289607035674953434912371825967726996747590089061175352006221347189235631239438722404437934853204024781550015030401311538850741139313253749333517329583487924915188957322033760510543250667721460440667815913113547126972284754963913686961482122963984057635025112961004503580508801149116596351466741059102369023524054145317127067056307363451653104905561226722258687609426695366162985049358055928829737661608340496299196004351555528758898386184429912745814765089476322107404308347058741400808780256860519188862803847857980956805420745056631993101810755986717372018728035298897978023396408684652907100008267771090782307615799600213352739482106387146905999843241950385885928446564346099420872174630260185360585945439667015264487784035303919748223386274040527095534403013452388781315445538919882180382524943155041917143733038073881167784461169199348261848690549534082634116918146752904665721706919568449460396481103578460882992788508019771884785530890335043420308890749969559898015053\n",
    "E = 27342579965394768445314284149183732275005803543153759986349426956917687886462168372970469989695004614812458896760204193071076624989177548424163767104741372311605445396128360674464261806560348816346509307769294206842471303672787391031723206621596749258441204394821715377686341075281351652230296004220246092901910439724371112314131399529435281898193723357099177941058785044059288108733682838743274290910296906267413386866735641647061838987055935170001705154483961422243024129889318158395682920736435785574460911195406525170896184938021657047674684327863909261627033469065183620671843172665416476551143530665634458023329511100753134397565772058913455884988714361325271680644738840114871795050519589946733422368082898442700584473858480972173533919089395550762165438705847736050099595235343500650509952853434738728374827262168264017198217262373225519255440705448366170947183623626032459173534721506439954127998500257787051610571630894454601272198510520852129219503288753232793238634579251957850779711780325252504007919881285658231262605757948465894369994711175921895871137176078849258376059990295921788645771027140317837689102789187579585794726897698284755005680269419138737676918681207318942935690037548197277490469500466087336216779557493529223948719125878548210566344759388974169116837736098272724040788251759697763176352677758936238122514996837938924364865350495990652400417353915617116809583608879154881520492423723095396734139219067932220108248830579314925105684064514671995395431063948538429299901475106067919617965621"
   ]
  },
  {
   "cell_type": "code",
   "execution_count": null,
   "metadata": {
    "vscode": {
     "languageId": "sage"
    }
   },
   "outputs": [],
   "source": [
    "\n"
   ]
  },
  {
   "cell_type": "markdown",
   "metadata": {},
   "source": [
    "Now, let's pretend that you sent me the message.  Run the code \n",
    "\n",
    "```\n",
    "plain_text_back = int(Mod(cipher_text,n)^d)\n",
    "a_check = check(plain_text_back)\n",
    "verify_signature(a_check[0],[a_check[1],a_check[2]],p,g,v,1)\n",
    "```\n",
    "\n",
    "in the cell below to make sure I could decrypt your message and verify that you really sent it."
   ]
  },
  {
   "cell_type": "code",
   "execution_count": null,
   "metadata": {
    "vscode": {
     "languageId": "sage"
    }
   },
   "outputs": [],
   "source": []
  },
  {
   "cell_type": "markdown",
   "metadata": {},
   "source": [
    "## Problem 2"
   ]
  },
  {
   "cell_type": "markdown",
   "metadata": {},
   "source": [
    "Suppose I created an ElGamal digital signature scheme with:"
   ]
  },
  {
   "cell_type": "code",
   "execution_count": 5,
   "metadata": {
    "vscode": {
     "languageId": "sage"
    }
   },
   "outputs": [],
   "source": [
    "p = 1413196607\n",
    "g = 5"
   ]
  },
  {
   "cell_type": "markdown",
   "metadata": {
    "vscode": {
     "languageId": "sage"
    }
   },
   "source": [
    "The published verification key is"
   ]
  },
  {
   "cell_type": "code",
   "execution_count": 6,
   "metadata": {
    "vscode": {
     "languageId": "sage"
    }
   },
   "outputs": [],
   "source": [
    "v = 1388462086"
   ]
  },
  {
   "cell_type": "markdown",
   "metadata": {},
   "source": [
    "Forge a digital signature $(S1,S2)$ for the message.  (Shanks's Babystep-Giantstep might be helpful here...)  **Make sure that your S1 and S2 have python integer types.**"
   ]
  },
  {
   "cell_type": "code",
   "execution_count": 7,
   "metadata": {
    "vscode": {
     "languageId": "sage"
    }
   },
   "outputs": [],
   "source": [
    "m = 31415926"
   ]
  },
  {
   "cell_type": "code",
   "execution_count": null,
   "metadata": {
    "vscode": {
     "languageId": "sage"
    }
   },
   "outputs": [],
   "source": []
  },
  {
   "cell_type": "markdown",
   "metadata": {},
   "source": [
    "Make sure your signature is correct by running the code\n",
    "```verify_signature(m,[S1,S2],p,g,v)```\n",
    "**Again, make sure that your S1 and S2 have python integer type.**"
   ]
  },
  {
   "cell_type": "code",
   "execution_count": null,
   "metadata": {
    "vscode": {
     "languageId": "sage"
    }
   },
   "outputs": [],
   "source": []
  },
  {
   "cell_type": "markdown",
   "metadata": {
    "vscode": {
     "languageId": "sage"
    }
   },
   "source": [
    "## Problem 3"
   ]
  },
  {
   "cell_type": "markdown",
   "metadata": {},
   "source": [
    "You and Bob are setting up an elliptic curve Diffie-Hellman key exchange.  You agree to use the curve $y^{2} = x^{3} + 12x + 19$, the prime"
   ]
  },
  {
   "cell_type": "code",
   "execution_count": 8,
   "metadata": {
    "vscode": {
     "languageId": "sage"
    }
   },
   "outputs": [],
   "source": [
    "p = 79383325070544946995240482785923708381947905804121"
   ]
  },
  {
   "cell_type": "markdown",
   "metadata": {
    "vscode": {
     "languageId": "sage"
    }
   },
   "source": [
    "and the point $P \\in E(\\mathbb{F}_{p})$ given by\n",
    "\n",
    "$$P = (64754076003824597023219840569237094200675975619532,73590601675094550988188459863671053770441890824788) $$\n",
    "\n",
    "You choose the secret integer\n",
    "\n",
    "$$n_{A} = 67631687813648832315992907461512932902396663054983$$\n",
    "\n",
    "You receive the following point from Bob:\n",
    "\n",
    "$$Q_{B} = (65691494785542945491518826567647404014545612422966,68235886540588467328450345384577891970928526780936) $$\n",
    "\n",
    "Compute the shared secret.  (It should be a point on the elliptic curve.)"
   ]
  },
  {
   "cell_type": "code",
   "execution_count": null,
   "metadata": {
    "vscode": {
     "languageId": "sage"
    }
   },
   "outputs": [],
   "source": []
  },
  {
   "cell_type": "markdown",
   "metadata": {},
   "source": [
    "## Problem 4"
   ]
  },
  {
   "cell_type": "markdown",
   "metadata": {},
   "source": [
    "In this problem, you will break an elliptic curve Diffie-Hellman key exchange.  Suppose that you know Alice and Bob use the same elliptic curve as in the previous previous problem with the same point $P$.  Now, you intersept the point\n",
    "\n",
    "$$Q_{A} = (6447800849358000595838699850894518358621758727474,32198295816314024879046283048187389595493600994760) $$\n",
    "\n",
    "that Alice transmitted to Bob, and the point\n",
    "\n",
    "$$Q_{B} = (46459473958304882459746187768694441801547424428398, 64739813393485735432918399165833336532579380657863)$$\n",
    "\n",
    "that Bob transmitted to Alice.  What is the secret key that Alice and Bob agreed on?  Again, it should be a point on the elliptic curve."
   ]
  },
  {
   "cell_type": "code",
   "execution_count": null,
   "metadata": {
    "vscode": {
     "languageId": "sage"
    }
   },
   "outputs": [],
   "source": []
  }
 ],
 "metadata": {
  "kernelspec": {
   "display_name": "SageMath 9.6",
   "language": "sage",
   "name": "sagemath-9.6"
  },
  "language_info": {
   "codemirror_mode": {
    "name": "ipython",
    "version": 3
   },
   "file_extension": ".py",
   "mimetype": "text/x-python",
   "name": "python",
   "nbconvert_exporter": "python",
   "pygments_lexer": "ipython3",
   "version": "3.10.3"
  }
 },
 "nbformat": 4,
 "nbformat_minor": 2
}
